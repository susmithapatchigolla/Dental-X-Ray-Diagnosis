{
  "nbformat": 4,
  "nbformat_minor": 0,
  "metadata": {
    "colab": {
      "name": "dentalp.ipynb",
      "version": "0.3.2",
      "provenance": [],
      "include_colab_link": true
    },
    "kernelspec": {
      "name": "python3",
      "display_name": "Python 3"
    }
  },
  "cells": [
    {
      "cell_type": "markdown",
      "metadata": {
        "id": "view-in-github",
        "colab_type": "text"
      },
      "source": [
        "<a href=\"https://colab.research.google.com/github/susmithapatchigolla/Dental-X-Ray-Diagnosis/blob/master/dentalp.ipynb\" target=\"_parent\"><img src=\"https://colab.research.google.com/assets/colab-badge.svg\" alt=\"Open In Colab\"/></a>"
      ]
    },
    {
      "cell_type": "markdown",
      "metadata": {
        "id": "swCEf1f6FdQd",
        "colab_type": "text"
      },
      "source": [
        "## ***Importing Modules***"
      ]
    },
    {
      "cell_type": "code",
      "metadata": {
        "id": "D0tlp2DDhf3m",
        "colab_type": "code",
        "colab": {}
      },
      "source": [
        "import pandas as pd\n",
        "import numpy as np"
      ],
      "execution_count": 0,
      "outputs": []
    },
    {
      "cell_type": "code",
      "metadata": {
        "id": "jLoeXIwFiseY",
        "colab_type": "code",
        "outputId": "70fe93bf-b727-432e-8205-b4e5d9126180",
        "colab": {
          "base_uri": "https://localhost:8080/",
          "height": 34
        }
      },
      "source": [
        "from keras.models import Model\n",
        "from keras.preprocessing.image import ImageDataGenerator, load_img\n",
        "from keras.layers import Dropout,Dense,GlobalAveragePooling2D"
      ],
      "execution_count": 0,
      "outputs": [
        {
          "output_type": "stream",
          "text": [
            "Using TensorFlow backend.\n"
          ],
          "name": "stderr"
        }
      ]
    },
    {
      "cell_type": "code",
      "metadata": {
        "id": "U9H_qfD0i0LV",
        "colab_type": "code",
        "colab": {}
      },
      "source": [
        "training_data_generator = ImageDataGenerator()"
      ],
      "execution_count": 0,
      "outputs": []
    },
    {
      "cell_type": "markdown",
      "metadata": {
        "id": "F4nXeQpZFz0o",
        "colab_type": "text"
      },
      "source": [
        "## ***Uploading the Dataset***"
      ]
    },
    {
      "cell_type": "code",
      "metadata": {
        "id": "BPxtYdXUi4MD",
        "colab_type": "code",
        "outputId": "af66e120-703d-4a2c-f62c-589bc7b8867c",
        "colab": {
          "resources": {
            "http://localhost:8080/nbextensions/google.colab/files.js": {
              "data": "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",
              "ok": true,
              "headers": [
                [
                  "content-type",
                  "application/javascript"
                ]
              ],
              "status": 200,
              "status_text": ""
            }
          },
          "base_uri": "https://localhost:8080/",
          "height": 74
        }
      },
      "source": [
        "from google.colab import files\n",
        "uploaded = files.upload()"
      ],
      "execution_count": 0,
      "outputs": [
        {
          "output_type": "display_data",
          "data": {
            "text/html": [
              "\n",
              "     <input type=\"file\" id=\"files-473535da-c09f-4e44-9cd0-05cb2b6ebdb2\" name=\"files[]\" multiple disabled />\n",
              "     <output id=\"result-473535da-c09f-4e44-9cd0-05cb2b6ebdb2\">\n",
              "      Upload widget is only available when the cell has been executed in the\n",
              "      current browser session. Please rerun this cell to enable.\n",
              "      </output>\n",
              "      <script src=\"/nbextensions/google.colab/files.js\"></script> "
            ],
            "text/plain": [
              "<IPython.core.display.HTML object>"
            ]
          },
          "metadata": {
            "tags": []
          }
        },
        {
          "output_type": "stream",
          "text": [
            "Saving dental.zip to dental.zip\n"
          ],
          "name": "stdout"
        }
      ]
    },
    {
      "cell_type": "markdown",
      "metadata": {
        "id": "vyxrbPvcGjad",
        "colab_type": "text"
      },
      "source": [
        "## ***UnZipping the Data set***\n"
      ]
    },
    {
      "cell_type": "code",
      "metadata": {
        "id": "pq6zB3m2i8Fw",
        "colab_type": "code",
        "outputId": "5a5e8ab9-65c1-4056-e989-45373f9fc0b8",
        "colab": {
          "base_uri": "https://localhost:8080/",
          "height": 5168
        }
      },
      "source": [
        "!unzip dental.zip"
      ],
      "execution_count": 0,
      "outputs": [
        {
          "output_type": "stream",
          "text": [
            "Archive:  dental.zip\n",
            "   creating: dental/\n",
            "   creating: dental/ncaries/\n",
            "  inflating: dental/ncaries/p176.JPG  \n",
            "  inflating: dental/ncaries/p177.JPG  \n",
            "  inflating: dental/ncaries/p179.JPG  \n",
            "  inflating: dental/ncaries/p182.JPG  \n",
            "  inflating: dental/ncaries/p192.JPG  \n",
            "  inflating: dental/ncaries/p194.JPG  \n",
            "  inflating: dental/ncaries/p199.JPG  \n",
            "  inflating: dental/ncaries/p200.JPG  \n",
            "  inflating: dental/ncaries/p201.JPG  \n",
            "  inflating: dental/ncaries/p202.JPG  \n",
            "  inflating: dental/ncaries/p203.JPG  \n",
            "  inflating: dental/ncaries/p206.JPG  \n",
            "  inflating: dental/ncaries/p207.JPG  \n",
            "  inflating: dental/ncaries/p209.JPG  \n",
            "  inflating: dental/ncaries/p210.JPG  \n",
            "  inflating: dental/ncaries/p211.JPG  \n",
            "  inflating: dental/ncaries/p217.JPG  \n",
            "  inflating: dental/ncaries/p219.JPG  \n",
            "  inflating: dental/ncaries/p227.JPG  \n",
            "  inflating: dental/ncaries/p228.JPG  \n",
            "  inflating: dental/ncaries/p229.JPG  \n",
            "  inflating: dental/ncaries/p232.JPG  \n",
            "  inflating: dental/ncaries/p233.JPG  \n",
            "  inflating: dental/ncaries/p234.JPG  \n",
            "  inflating: dental/ncaries/p235.JPG  \n",
            "  inflating: dental/ncaries/p238.JPG  \n",
            "  inflating: dental/ncaries/p240.JPG  \n",
            "  inflating: dental/ncaries/p241.JPG  \n",
            "  inflating: dental/ncaries/p243.JPG  \n",
            "  inflating: dental/ncaries/p245.JPG  \n",
            "  inflating: dental/ncaries/p247.JPG  \n",
            "  inflating: dental/ncaries/p248.JPG  \n",
            "  inflating: dental/ncaries/p250.JPG  \n",
            "  inflating: dental/ncaries/p251.JPG  \n",
            "  inflating: dental/ncaries/p254.JPG  \n",
            "  inflating: dental/ncaries/p255.JPG  \n",
            "  inflating: dental/ncaries/p256.JPG  \n",
            "  inflating: dental/ncaries/p257.JPG  \n",
            "  inflating: dental/ncaries/p259.JPG  \n",
            "  inflating: dental/ncaries/p261.JPG  \n",
            "  inflating: dental/ncaries/p262.JPG  \n",
            "  inflating: dental/ncaries/p263.JPG  \n",
            "  inflating: dental/ncaries/p264.JPG  \n",
            "  inflating: dental/ncaries/p266.JPG  \n",
            "  inflating: dental/ncaries/p271.JPG  \n",
            "  inflating: dental/ncaries/p272.JPG  \n",
            "  inflating: dental/ncaries/p273.JPG  \n",
            "  inflating: dental/ncaries/p278.JPG  \n",
            "  inflating: dental/ncaries/p280.JPG  \n",
            "  inflating: dental/ncaries/p282.JPG  \n",
            "  inflating: dental/ncaries/p283.JPG  \n",
            "  inflating: dental/ncaries/p286.JPG  \n",
            "  inflating: dental/ncaries/p288.JPG  \n",
            "  inflating: dental/ncaries/p290.JPG  \n",
            "  inflating: dental/ncaries/p292.JPG  \n",
            "  inflating: dental/ncaries/p293.JPG  \n",
            "  inflating: dental/ncaries/p294.JPG  \n",
            "  inflating: dental/ncaries/p295.JPG  \n",
            "  inflating: dental/ncaries/p297.JPG  \n",
            "  inflating: dental/ncaries/p298.JPG  \n",
            "  inflating: dental/ncaries/p299.JPG  \n",
            "  inflating: dental/ncaries/p301.JPG  \n",
            "  inflating: dental/ncaries/p302.JPG  \n",
            "  inflating: dental/ncaries/p303.JPG  \n",
            "  inflating: dental/ncaries/p304.JPG  \n",
            "  inflating: dental/ncaries/p305.JPG  \n",
            "  inflating: dental/ncaries/p306.JPG  \n",
            "  inflating: dental/ncaries/p309.JPG  \n",
            "  inflating: dental/ncaries/p312.JPG  \n",
            "  inflating: dental/ncaries/p313.JPG  \n",
            "  inflating: dental/ncaries/p314.JPG  \n",
            "  inflating: dental/ncaries/p315.JPG  \n",
            "  inflating: dental/ncaries/p317.JPG  \n",
            "  inflating: dental/ncaries/p318.JPG  \n",
            "  inflating: dental/ncaries/p319.JPG  \n",
            "  inflating: dental/ncaries/p321.JPG  \n",
            "  inflating: dental/ncaries/p322.JPG  \n",
            "  inflating: dental/ncaries/p325.JPG  \n",
            "  inflating: dental/ncaries/p326.JPG  \n",
            "  inflating: dental/ncaries/p327.JPG  \n",
            "  inflating: dental/ncaries/p330.JPG  \n",
            "  inflating: dental/ncaries/p332.JPG  \n",
            "  inflating: dental/ncaries/p333.JPG  \n",
            "  inflating: dental/ncaries/p334.JPG  \n",
            "  inflating: dental/ncaries/p335.JPG  \n",
            "  inflating: dental/ncaries/p336.JPG  \n",
            "  inflating: dental/ncaries/p337.JPG  \n",
            "  inflating: dental/ncaries/p338.JPG  \n",
            "  inflating: dental/ncaries/p339.JPG  \n",
            "  inflating: dental/ncaries/p340.JPG  \n",
            "  inflating: dental/ncaries/p341.JPG  \n",
            "  inflating: dental/ncaries/p344.JPG  \n",
            "  inflating: dental/ncaries/p345.JPG  \n",
            "  inflating: dental/ncaries/p346.JPG  \n",
            "  inflating: dental/ncaries/p347.JPG  \n",
            "  inflating: dental/ncaries/p348.JPG  \n",
            "  inflating: dental/ncaries/p350.JPG  \n",
            "  inflating: dental/ncaries/p351.JPG  \n",
            "  inflating: dental/ncaries/p353.JPG  \n",
            "  inflating: dental/ncaries/p355.JPG  \n",
            "  inflating: dental/ncaries/p357.JPG  \n",
            "  inflating: dental/ncaries/p358.JPG  \n",
            "  inflating: dental/ncaries/p360.JPG  \n",
            "  inflating: dental/ncaries/p363.JPG  \n",
            "  inflating: dental/ncaries/p364.JPG  \n",
            "  inflating: dental/ncaries/p365.JPG  \n",
            "  inflating: dental/ncaries/p366.JPG  \n",
            "  inflating: dental/ncaries/p367.JPG  \n",
            "  inflating: dental/ncaries/p368.JPG  \n",
            "  inflating: dental/ncaries/p369.JPG  \n",
            "  inflating: dental/ncaries/p372.JPG  \n",
            "  inflating: dental/ncaries/p373.JPG  \n",
            "  inflating: dental/ncaries/p374.JPG  \n",
            "  inflating: dental/ncaries/p381.JPG  \n",
            "  inflating: dental/ncaries/p382.JPG  \n",
            "  inflating: dental/ncaries/p384.JPG  \n",
            "  inflating: dental/ncaries/p385.JPG  \n",
            "  inflating: dental/ncaries/p386.JPG  \n",
            "  inflating: dental/ncaries/p387.JPG  \n",
            "  inflating: dental/ncaries/p388.JPG  \n",
            "  inflating: dental/ncaries/p390.JPG  \n",
            "  inflating: dental/ncaries/p391.JPG  \n",
            "  inflating: dental/ncaries/p394.JPG  \n",
            "  inflating: dental/ncaries/p395.JPG  \n",
            "  inflating: dental/ncaries/p396.JPG  \n",
            "  inflating: dental/ncaries/p397.JPG  \n",
            "  inflating: dental/ncaries/p399.JPG  \n",
            "  inflating: dental/ncaries/p400.JPG  \n",
            "  inflating: dental/ncaries/p401.JPG  \n",
            "  inflating: dental/ncaries/p402.JPG  \n",
            "  inflating: dental/ncaries/p403.JPG  \n",
            "  inflating: dental/ncaries/p404.JPG  \n",
            "  inflating: dental/ncaries/p405.JPG  \n",
            "  inflating: dental/ncaries/p406.JPG  \n",
            "  inflating: dental/ncaries/p409.JPG  \n",
            "  inflating: dental/ncaries/p410.JPG  \n",
            "  inflating: dental/ncaries/p413.JPG  \n",
            "  inflating: dental/ncaries/p414.JPG  \n",
            "  inflating: dental/ncaries/p415.JPG  \n",
            "  inflating: dental/ncaries/p416.JPG  \n",
            "  inflating: dental/ncaries/p417.JPG  \n",
            "  inflating: dental/ncaries/p419.JPG  \n",
            "  inflating: dental/ncaries/p420.JPG  \n",
            "  inflating: dental/ncaries/p421.JPG  \n",
            "  inflating: dental/ncaries/p422.JPG  \n",
            "  inflating: dental/ncaries/p424.JPG  \n",
            "  inflating: dental/ncaries/p426.JPG  \n",
            "  inflating: dental/ncaries/p430.JPG  \n",
            "  inflating: dental/ncaries/p431.JPG  \n",
            "  inflating: dental/ncaries/p435.JPG  \n",
            "  inflating: dental/ncaries/p438.JPG  \n",
            "  inflating: dental/ncaries/p439.JPG  \n",
            "  inflating: dental/ncaries/p440.JPG  \n",
            "  inflating: dental/ncaries/p442.JPG  \n",
            "  inflating: dental/ncaries/p443.JPG  \n",
            "  inflating: dental/ncaries/p444.JPG  \n",
            "  inflating: dental/ncaries/p445.JPG  \n",
            "  inflating: dental/ncaries/p446.JPG  \n",
            "  inflating: dental/ncaries/p447.JPG  \n",
            "  inflating: dental/ncaries/p449.JPG  \n",
            "  inflating: dental/ncaries/p451.JPG  \n",
            "  inflating: dental/ncaries/p452.JPG  \n",
            "  inflating: dental/ncaries/p454.JPG  \n",
            "  inflating: dental/ncaries/p456.JPG  \n",
            "  inflating: dental/ncaries/p459.JPG  \n",
            "  inflating: dental/ncaries/p460.JPG  \n",
            "  inflating: dental/ncaries/p463.JPG  \n",
            "  inflating: dental/ncaries/p465.JPG  \n",
            "  inflating: dental/ncaries/p466.JPG  \n",
            "  inflating: dental/ncaries/p467.JPG  \n",
            "  inflating: dental/ncaries/p468.JPG  \n",
            "  inflating: dental/ncaries/p469.JPG  \n",
            "  inflating: dental/ncaries/p470.JPG  \n",
            "  inflating: dental/ncaries/p471.JPG  \n",
            "  inflating: dental/ncaries/p472.JPG  \n",
            "  inflating: dental/ncaries/p473.JPG  \n",
            "  inflating: dental/ncaries/p478.JPG  \n",
            "  inflating: dental/ncaries/p479.JPG  \n",
            "  inflating: dental/ncaries/p482.JPG  \n",
            "  inflating: dental/ncaries/p483.JPG  \n",
            "  inflating: dental/ncaries/p484.JPG  \n",
            "  inflating: dental/ncaries/p487.JPG  \n",
            "  inflating: dental/ncaries/p489.JPG  \n",
            "  inflating: dental/ncaries/p491.JPG  \n",
            "  inflating: dental/ncaries/p493.JPG  \n",
            "  inflating: dental/ncaries/p495.JPG  \n",
            "  inflating: dental/ncaries/p499.JPG  \n",
            "  inflating: dental/ncaries/p500.JPG  \n",
            "   creating: dental/ycaries/\n",
            "  inflating: dental/ycaries/p178.JPG  \n",
            "  inflating: dental/ycaries/p181.JPG  \n",
            "  inflating: dental/ycaries/p183.JPG  \n",
            "  inflating: dental/ycaries/p184.JPG  \n",
            "  inflating: dental/ycaries/p185.JPG  \n",
            "  inflating: dental/ycaries/p187.JPG  \n",
            "  inflating: dental/ycaries/p188.JPG  \n",
            "  inflating: dental/ycaries/p190.JPG  \n",
            "  inflating: dental/ycaries/p191.JPG  \n",
            "  inflating: dental/ycaries/p193.JPG  \n",
            "  inflating: dental/ycaries/p195.JPG  \n",
            "  inflating: dental/ycaries/p196.JPG  \n",
            "  inflating: dental/ycaries/p197.JPG  \n",
            "  inflating: dental/ycaries/p204.JPG  \n",
            "  inflating: dental/ycaries/p205.JPG  \n",
            "  inflating: dental/ycaries/p208.JPG  \n",
            "  inflating: dental/ycaries/p212.JPG  \n",
            "  inflating: dental/ycaries/p213.JPG  \n",
            "  inflating: dental/ycaries/p214.JPG  \n",
            "  inflating: dental/ycaries/p215.JPG  \n",
            "  inflating: dental/ycaries/p216.JPG  \n",
            "  inflating: dental/ycaries/p218.JPG  \n",
            "  inflating: dental/ycaries/p220.JPG  \n",
            "  inflating: dental/ycaries/p221.JPG  \n",
            "  inflating: dental/ycaries/p222.JPG  \n",
            "  inflating: dental/ycaries/p223.JPG  \n",
            "  inflating: dental/ycaries/p224.JPG  \n",
            "  inflating: dental/ycaries/p225.JPG  \n",
            "  inflating: dental/ycaries/p226.JPG  \n",
            "  inflating: dental/ycaries/p230.JPG  \n",
            "  inflating: dental/ycaries/p231.JPG  \n",
            "  inflating: dental/ycaries/p236.JPG  \n",
            "  inflating: dental/ycaries/p237.JPG  \n",
            "  inflating: dental/ycaries/p239.JPG  \n",
            "  inflating: dental/ycaries/p242.JPG  \n",
            "  inflating: dental/ycaries/p244.JPG  \n",
            "  inflating: dental/ycaries/p246.JPG  \n",
            "  inflating: dental/ycaries/p252.JPG  \n",
            "  inflating: dental/ycaries/p253.JPG  \n",
            "  inflating: dental/ycaries/p258.JPG  \n",
            "  inflating: dental/ycaries/p260.JPG  \n",
            "  inflating: dental/ycaries/p265.JPG  \n",
            "  inflating: dental/ycaries/p269.JPG  \n",
            "  inflating: dental/ycaries/p270.JPG  \n",
            "  inflating: dental/ycaries/p274.JPG  \n",
            "  inflating: dental/ycaries/p275.JPG  \n",
            "  inflating: dental/ycaries/p276.JPG  \n",
            "  inflating: dental/ycaries/p277.JPG  \n",
            "  inflating: dental/ycaries/p279.JPG  \n",
            "  inflating: dental/ycaries/p281.JPG  \n",
            "  inflating: dental/ycaries/p284.JPG  \n",
            "  inflating: dental/ycaries/p287.JPG  \n",
            "  inflating: dental/ycaries/p291.JPG  \n",
            "  inflating: dental/ycaries/p296.JPG  \n",
            "  inflating: dental/ycaries/p300.JPG  \n",
            "  inflating: dental/ycaries/p308.JPG  \n",
            "  inflating: dental/ycaries/p310.JPG  \n",
            "  inflating: dental/ycaries/p311.JPG  \n",
            "  inflating: dental/ycaries/p316.JPG  \n",
            "  inflating: dental/ycaries/p323.JPG  \n",
            "  inflating: dental/ycaries/p328.JPG  \n",
            "  inflating: dental/ycaries/p329.JPG  \n",
            "  inflating: dental/ycaries/p343.JPG  \n",
            "  inflating: dental/ycaries/p349.JPG  \n",
            "  inflating: dental/ycaries/p352.JPG  \n",
            "  inflating: dental/ycaries/p354.JPG  \n",
            "  inflating: dental/ycaries/p356.JPG  \n",
            "  inflating: dental/ycaries/p359.JPG  \n",
            "  inflating: dental/ycaries/p361.JPG  \n",
            "  inflating: dental/ycaries/p370.JPG  \n",
            "  inflating: dental/ycaries/p375.JPG  \n",
            "  inflating: dental/ycaries/p376.JPG  \n",
            "  inflating: dental/ycaries/p377.JPG  \n",
            "  inflating: dental/ycaries/p379.JPG  \n",
            "  inflating: dental/ycaries/p380.JPG  \n",
            "  inflating: dental/ycaries/p393.JPG  \n",
            "  inflating: dental/ycaries/p398.JPG  \n",
            "  inflating: dental/ycaries/p407.JPG  \n",
            "  inflating: dental/ycaries/p408.JPG  \n",
            "  inflating: dental/ycaries/p411.JPG  \n",
            "  inflating: dental/ycaries/p418.JPG  \n",
            "  inflating: dental/ycaries/p423.JPG  \n",
            "  inflating: dental/ycaries/p425.JPG  \n",
            "  inflating: dental/ycaries/p427.JPG  \n",
            "  inflating: dental/ycaries/p429.JPG  \n",
            "  inflating: dental/ycaries/p432.JPG  \n",
            "  inflating: dental/ycaries/p434.JPG  \n",
            "  inflating: dental/ycaries/p436.JPG  \n",
            "  inflating: dental/ycaries/p441.JPG  \n",
            "  inflating: dental/ycaries/p448.JPG  \n",
            "  inflating: dental/ycaries/p450.JPG  \n",
            "  inflating: dental/ycaries/p453.JPG  \n",
            "  inflating: dental/ycaries/p455.JPG  \n",
            "  inflating: dental/ycaries/p457.JPG  \n",
            "  inflating: dental/ycaries/p458.JPG  \n",
            "  inflating: dental/ycaries/p461.JPG  \n",
            "  inflating: dental/ycaries/p462.JPG  \n",
            "  inflating: dental/ycaries/p474.JPG  \n",
            "  inflating: dental/ycaries/p475.JPG  \n",
            "  inflating: dental/ycaries/p476.JPG  \n",
            "  inflating: dental/ycaries/p477.JPG  \n",
            "  inflating: dental/ycaries/p480.JPG  \n",
            "  inflating: dental/ycaries/p481.JPG  \n",
            "  inflating: dental/ycaries/p485.JPG  \n",
            "  inflating: dental/ycaries/p486.JPG  \n",
            "  inflating: dental/ycaries/p490.JPG  \n",
            "  inflating: dental/ycaries/p492.JPG  \n",
            "  inflating: dental/ycaries/p494.JPG  \n",
            "  inflating: dental/ycaries/p496.JPG  \n",
            "  inflating: dental/ycaries/p497.JPG  \n",
            "  inflating: dental/ycaries/p498.JPG  \n"
          ],
          "name": "stdout"
        }
      ]
    },
    {
      "cell_type": "markdown",
      "metadata": {
        "id": "Kr-P3hjNG1p3",
        "colab_type": "text"
      },
      "source": [
        "## ***Uploading Validation Data Set***"
      ]
    },
    {
      "cell_type": "code",
      "metadata": {
        "id": "DteKSOrEkeCd",
        "colab_type": "code",
        "outputId": "aa289120-8937-4caf-f9bf-18b7bf94479c",
        "colab": {
          "resources": {
            "http://localhost:8080/nbextensions/google.colab/files.js": {
              "data": "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",
              "ok": true,
              "headers": [
                [
                  "content-type",
                  "application/javascript"
                ]
              ],
              "status": 200,
              "status_text": ""
            }
          },
          "base_uri": "https://localhost:8080/",
          "height": 74
        }
      },
      "source": [
        "from google.colab import files\n",
        "uploaded = files.upload()"
      ],
      "execution_count": 0,
      "outputs": [
        {
          "output_type": "display_data",
          "data": {
            "text/html": [
              "\n",
              "     <input type=\"file\" id=\"files-f51a36e3-bc9f-4bc9-80bd-0b6d724ea90c\" name=\"files[]\" multiple disabled />\n",
              "     <output id=\"result-f51a36e3-bc9f-4bc9-80bd-0b6d724ea90c\">\n",
              "      Upload widget is only available when the cell has been executed in the\n",
              "      current browser session. Please rerun this cell to enable.\n",
              "      </output>\n",
              "      <script src=\"/nbextensions/google.colab/files.js\"></script> "
            ],
            "text/plain": [
              "<IPython.core.display.HTML object>"
            ]
          },
          "metadata": {
            "tags": []
          }
        },
        {
          "output_type": "stream",
          "text": [
            "Saving validation.zip to validation.zip\n"
          ],
          "name": "stdout"
        }
      ]
    },
    {
      "cell_type": "markdown",
      "metadata": {
        "id": "KG8fi8tTG8CH",
        "colab_type": "text"
      },
      "source": [
        "# ***UnZipping Validation Data Set***"
      ]
    },
    {
      "cell_type": "code",
      "metadata": {
        "id": "SpajWc0kkkss",
        "colab_type": "code",
        "outputId": "de3801ae-b877-4f12-8c52-9d99909042dc",
        "colab": {
          "base_uri": "https://localhost:8080/",
          "height": 4199
        }
      },
      "source": [
        "!unzip validation.zip"
      ],
      "execution_count": 0,
      "outputs": [
        {
          "output_type": "stream",
          "text": [
            "Archive:  validation.zip\n",
            "   creating: validation/\n",
            "   creating: validation/ncaries/\n",
            "  inflating: validation/ncaries/p601.JPG  \n",
            "  inflating: validation/ncaries/p603.JPG  \n",
            "  inflating: validation/ncaries/p604.JPG  \n",
            "  inflating: validation/ncaries/p605.JPG  \n",
            "  inflating: validation/ncaries/p606.JPG  \n",
            "  inflating: validation/ncaries/p608.JPG  \n",
            "  inflating: validation/ncaries/p609.JPG  \n",
            "  inflating: validation/ncaries/p610.JPG  \n",
            "  inflating: validation/ncaries/p615.JPG  \n",
            "  inflating: validation/ncaries/p617.JPG  \n",
            "  inflating: validation/ncaries/p619.JPG  \n",
            "  inflating: validation/ncaries/p621.JPG  \n",
            "  inflating: validation/ncaries/p622.JPG  \n",
            "  inflating: validation/ncaries/p623.JPG  \n",
            "  inflating: validation/ncaries/p624.JPG  \n",
            "  inflating: validation/ncaries/p625.JPG  \n",
            "  inflating: validation/ncaries/p626.JPG  \n",
            "  inflating: validation/ncaries/p628.JPG  \n",
            "  inflating: validation/ncaries/p629.JPG  \n",
            "  inflating: validation/ncaries/p631.JPG  \n",
            "  inflating: validation/ncaries/p634.JPG  \n",
            "  inflating: validation/ncaries/p636.JPG  \n",
            "  inflating: validation/ncaries/p637.JPG  \n",
            "  inflating: validation/ncaries/p638.JPG  \n",
            "  inflating: validation/ncaries/p641.JPG  \n",
            "  inflating: validation/ncaries/p643.JPG  \n",
            "  inflating: validation/ncaries/p644.JPG  \n",
            "  inflating: validation/ncaries/p645.JPG  \n",
            "  inflating: validation/ncaries/p647.JPG  \n",
            "  inflating: validation/ncaries/p648.JPG  \n",
            "  inflating: validation/ncaries/p649.JPG  \n",
            "  inflating: validation/ncaries/p650.JPG  \n",
            "  inflating: validation/ncaries/p651.JPG  \n",
            "  inflating: validation/ncaries/p654.JPG  \n",
            "  inflating: validation/ncaries/p655.JPG  \n",
            "  inflating: validation/ncaries/p657.JPG  \n",
            "  inflating: validation/ncaries/p658.JPG  \n",
            "  inflating: validation/ncaries/p659.JPG  \n",
            "  inflating: validation/ncaries/p660.JPG  \n",
            "  inflating: validation/ncaries/p661.JPG  \n",
            "  inflating: validation/ncaries/p662.JPG  \n",
            "  inflating: validation/ncaries/p663.JPG  \n",
            "  inflating: validation/ncaries/p664.JPG  \n",
            "  inflating: validation/ncaries/p665.JPG  \n",
            "  inflating: validation/ncaries/p669.JPG  \n",
            "  inflating: validation/ncaries/p670.JPG  \n",
            "  inflating: validation/ncaries/p672.JPG  \n",
            "  inflating: validation/ncaries/p673.JPG  \n",
            "  inflating: validation/ncaries/p674.JPG  \n",
            "  inflating: validation/ncaries/p676.JPG  \n",
            "  inflating: validation/ncaries/p679.JPG  \n",
            "  inflating: validation/ncaries/p686.JPG  \n",
            "  inflating: validation/ncaries/p688.JPG  \n",
            "  inflating: validation/ncaries/p689.JPG  \n",
            "  inflating: validation/ncaries/p691.JPG  \n",
            "  inflating: validation/ncaries/p692.JPG  \n",
            "  inflating: validation/ncaries/p693.JPG  \n",
            "  inflating: validation/ncaries/p695.JPG  \n",
            "  inflating: validation/ncaries/p696.JPG  \n",
            "  inflating: validation/ncaries/p697.JPG  \n",
            "  inflating: validation/ncaries/p699.JPG  \n",
            "  inflating: validation/ncaries/p702.JPG  \n",
            "  inflating: validation/ncaries/p706.JPG  \n",
            "  inflating: validation/ncaries/p708.JPG  \n",
            "  inflating: validation/ncaries/p709.JPG  \n",
            "  inflating: validation/ncaries/p710.JPG  \n",
            "  inflating: validation/ncaries/p713.JPG  \n",
            "  inflating: validation/ncaries/p717.JPG  \n",
            "  inflating: validation/ncaries/p718.JPG  \n",
            "  inflating: validation/ncaries/p719.JPG  \n",
            "  inflating: validation/ncaries/p720.JPG  \n",
            "  inflating: validation/ncaries/p721.JPG  \n",
            "  inflating: validation/ncaries/p722.JPG  \n",
            "  inflating: validation/ncaries/p724.JPG  \n",
            "  inflating: validation/ncaries/p725.JPG  \n",
            "  inflating: validation/ncaries/p726.JPG  \n",
            "  inflating: validation/ncaries/p727.JPG  \n",
            "  inflating: validation/ncaries/p729.JPG  \n",
            "  inflating: validation/ncaries/p730.JPG  \n",
            "  inflating: validation/ncaries/p732.JPG  \n",
            "  inflating: validation/ncaries/p734.JPG  \n",
            "  inflating: validation/ncaries/p735.JPG  \n",
            "  inflating: validation/ncaries/p738.JPG  \n",
            "  inflating: validation/ncaries/p739.JPG  \n",
            "  inflating: validation/ncaries/p742.JPG  \n",
            "  inflating: validation/ncaries/p745.JPG  \n",
            "  inflating: validation/ncaries/p746.JPG  \n",
            "  inflating: validation/ncaries/p750.JPG  \n",
            "  inflating: validation/ncaries/p754.JPG  \n",
            "  inflating: validation/ncaries/p755.JPG  \n",
            "  inflating: validation/ncaries/p758.JPG  \n",
            "  inflating: validation/ncaries/p761.JPG  \n",
            "  inflating: validation/ncaries/p762.JPG  \n",
            "  inflating: validation/ncaries/p765.JPG  \n",
            "  inflating: validation/ncaries/p767.JPG  \n",
            "  inflating: validation/ncaries/p769.JPG  \n",
            "  inflating: validation/ncaries/p773.JPG  \n",
            "  inflating: validation/ncaries/p774.JPG  \n",
            "  inflating: validation/ncaries/p775.JPG  \n",
            "  inflating: validation/ncaries/p776.JPG  \n",
            "  inflating: validation/ncaries/p777.JPG  \n",
            "  inflating: validation/ncaries/p778.JPG  \n",
            "  inflating: validation/ncaries/p780.JPG  \n",
            "  inflating: validation/ncaries/p781.JPG  \n",
            "  inflating: validation/ncaries/p782.JPG  \n",
            "  inflating: validation/ncaries/p784.JPG  \n",
            "  inflating: validation/ncaries/p785.JPG  \n",
            "  inflating: validation/ncaries/p789.JPG  \n",
            "  inflating: validation/ncaries/p790.JPG  \n",
            "  inflating: validation/ncaries/p791.JPG  \n",
            "  inflating: validation/ncaries/p792.JPG  \n",
            "  inflating: validation/ncaries/p793.JPG  \n",
            "  inflating: validation/ncaries/p794.JPG  \n",
            "  inflating: validation/ncaries/p796.JPG  \n",
            "  inflating: validation/ncaries/p797.JPG  \n",
            "  inflating: validation/ncaries/p803.JPG  \n",
            "  inflating: validation/ncaries/p804.JPG  \n",
            "  inflating: validation/ncaries/p805.JPG  \n",
            "  inflating: validation/ncaries/p806.JPG  \n",
            "  inflating: validation/ncaries/p807.JPG  \n",
            "  inflating: validation/ncaries/p808.JPG  \n",
            "  inflating: validation/ncaries/p809.JPG  \n",
            "  inflating: validation/ncaries/p810.JPG  \n",
            "  inflating: validation/ncaries/p811.JPG  \n",
            "  inflating: validation/ncaries/p812.JPG  \n",
            "  inflating: validation/ncaries/p813.JPG  \n",
            "  inflating: validation/ncaries/p814.JPG  \n",
            "  inflating: validation/ncaries/p815.JPG  \n",
            "  inflating: validation/ncaries/p819.JPG  \n",
            "  inflating: validation/ncaries/p820.JPG  \n",
            "  inflating: validation/ncaries/p821.JPG  \n",
            "  inflating: validation/ncaries/p822.JPG  \n",
            "  inflating: validation/ncaries/p824.JPG  \n",
            "  inflating: validation/ncaries/p826.JPG  \n",
            "  inflating: validation/ncaries/p827.JPG  \n",
            "  inflating: validation/ncaries/p828.JPG  \n",
            "  inflating: validation/ncaries/p831.JPG  \n",
            "  inflating: validation/ncaries/p834.JPG  \n",
            "  inflating: validation/ncaries/p835.JPG  \n",
            "  inflating: validation/ncaries/p837.JPG  \n",
            "  inflating: validation/ncaries/p842.JPG  \n",
            "  inflating: validation/ncaries/p844.JPG  \n",
            "  inflating: validation/ncaries/p846.JPG  \n",
            "  inflating: validation/ncaries/p848.JPG  \n",
            "  inflating: validation/ncaries/p850.JPG  \n",
            "  inflating: validation/ncaries/p853.JPG  \n",
            "  inflating: validation/ncaries/p856.JPG  \n",
            "  inflating: validation/ncaries/p857.JPG  \n",
            "  inflating: validation/ncaries/p860.JPG  \n",
            "  inflating: validation/ncaries/p861.JPG  \n",
            "  inflating: validation/ncaries/p862.JPG  \n",
            "  inflating: validation/ncaries/p863.JPG  \n",
            "  inflating: validation/ncaries/p864.JPG  \n",
            "  inflating: validation/ncaries/p866.JPG  \n",
            "  inflating: validation/ncaries/p868.JPG  \n",
            "  inflating: validation/ncaries/p869.JPG  \n",
            "  inflating: validation/ncaries/p870.JPG  \n",
            "  inflating: validation/ncaries/p871.JPG  \n",
            "  inflating: validation/ncaries/p872.JPG  \n",
            "  inflating: validation/ncaries/p874.JPG  \n",
            "  inflating: validation/ncaries/p875.JPG  \n",
            "  inflating: validation/ncaries/p876.JPG  \n",
            "  inflating: validation/ncaries/p878.JPG  \n",
            "  inflating: validation/ncaries/p879.JPG  \n",
            "  inflating: validation/ncaries/p881.JPG  \n",
            "  inflating: validation/ncaries/p882.JPG  \n",
            "  inflating: validation/ncaries/p883.JPG  \n",
            "  inflating: validation/ncaries/p884.JPG  \n",
            "   creating: validation/ycaries/\n",
            "  inflating: validation/ycaries/p607.JPG  \n",
            "  inflating: validation/ycaries/p611.JPG  \n",
            "  inflating: validation/ycaries/p613.JPG  \n",
            "  inflating: validation/ycaries/p614.JPG  \n",
            "  inflating: validation/ycaries/p618.JPG  \n",
            "  inflating: validation/ycaries/p632.JPG  \n",
            "  inflating: validation/ycaries/p639.JPG  \n",
            "  inflating: validation/ycaries/p646.JPG  \n",
            "  inflating: validation/ycaries/p652.JPG  \n",
            "  inflating: validation/ycaries/p656.JPG  \n",
            "  inflating: validation/ycaries/p667.JPG  \n",
            "  inflating: validation/ycaries/p668.JPG  \n",
            "  inflating: validation/ycaries/p671.JPG  \n",
            "  inflating: validation/ycaries/p675.JPG  \n",
            "  inflating: validation/ycaries/p677.JPG  \n",
            "  inflating: validation/ycaries/p678.JPG  \n",
            "  inflating: validation/ycaries/p680.JPG  \n",
            "  inflating: validation/ycaries/p682.JPG  \n",
            "  inflating: validation/ycaries/p684.JPG  \n",
            "  inflating: validation/ycaries/p685.JPG  \n",
            "  inflating: validation/ycaries/p690.JPG  \n",
            "  inflating: validation/ycaries/p700.JPG  \n",
            "  inflating: validation/ycaries/p705.JPG  \n",
            "  inflating: validation/ycaries/p711.JPG  \n",
            "  inflating: validation/ycaries/p714.JPG  \n",
            "  inflating: validation/ycaries/p715.JPG  \n",
            "  inflating: validation/ycaries/p716.JPG  \n",
            "  inflating: validation/ycaries/p728.JPG  \n",
            "  inflating: validation/ycaries/p733.JPG  \n",
            "  inflating: validation/ycaries/p737.JPG  \n",
            "  inflating: validation/ycaries/p740.JPG  \n",
            "  inflating: validation/ycaries/p741.JPG  \n",
            "  inflating: validation/ycaries/p748.JPG  \n",
            "  inflating: validation/ycaries/p751.JPG  \n",
            "  inflating: validation/ycaries/p752.JPG  \n",
            "  inflating: validation/ycaries/p753.JPG  \n",
            "  inflating: validation/ycaries/p756.JPG  \n",
            "  inflating: validation/ycaries/p757.JPG  \n",
            "  inflating: validation/ycaries/p759.JPG  \n",
            "  inflating: validation/ycaries/p760.JPG  \n",
            "  inflating: validation/ycaries/p763.JPG  \n",
            "  inflating: validation/ycaries/p764.JPG  \n",
            "  inflating: validation/ycaries/p768.JPG  \n",
            "  inflating: validation/ycaries/p770.JPG  \n",
            "  inflating: validation/ycaries/p771.JPG  \n",
            "  inflating: validation/ycaries/p783.JPG  \n",
            "  inflating: validation/ycaries/p786.JPG  \n",
            "  inflating: validation/ycaries/p788.JPG  \n",
            "  inflating: validation/ycaries/p795.JPG  \n",
            "  inflating: validation/ycaries/p798.JPG  \n",
            "  inflating: validation/ycaries/p800.JPG  \n",
            "  inflating: validation/ycaries/p801.JPG  \n",
            "  inflating: validation/ycaries/p816.JPG  \n",
            "  inflating: validation/ycaries/p818.JPG  \n",
            "  inflating: validation/ycaries/p825.JPG  \n",
            "  inflating: validation/ycaries/p829.JPG  \n",
            "  inflating: validation/ycaries/p830.JPG  \n",
            "  inflating: validation/ycaries/p833.JPG  \n",
            "  inflating: validation/ycaries/p836.JPG  \n",
            "  inflating: validation/ycaries/p838.JPG  \n",
            "  inflating: validation/ycaries/p840.JPG  \n",
            "  inflating: validation/ycaries/p841.JPG  \n",
            "  inflating: validation/ycaries/p843.JPG  \n",
            "  inflating: validation/ycaries/p845.JPG  \n",
            "  inflating: validation/ycaries/p847.JPG  \n",
            "  inflating: validation/ycaries/p849.JPG  \n",
            "  inflating: validation/ycaries/p852.JPG  \n",
            "  inflating: validation/ycaries/p854.JPG  \n",
            "  inflating: validation/ycaries/p855.JPG  \n",
            "  inflating: validation/ycaries/p859.JPG  \n",
            "  inflating: validation/ycaries/p865.JPG  \n",
            "  inflating: validation/ycaries/p873.JPG  \n",
            "  inflating: validation/ycaries/p877.JPG  \n",
            "  inflating: validation/ycaries/p880.JPG  \n"
          ],
          "name": "stdout"
        }
      ]
    },
    {
      "cell_type": "markdown",
      "metadata": {
        "id": "adt9ejmDHSG9",
        "colab_type": "text"
      },
      "source": [
        "## ***Loading Train Dataset into train generator***"
      ]
    },
    {
      "cell_type": "code",
      "metadata": {
        "id": "BF8fYFXPnJvm",
        "colab_type": "code",
        "outputId": "70afbaea-56c5-4cd7-8e97-eff695f73753",
        "colab": {
          "base_uri": "https://localhost:8080/",
          "height": 34
        }
      },
      "source": [
        "training_generator = training_data_generator.flow_from_directory(\n",
        "    'dental/',\n",
        "    target_size=(224, 224),\n",
        "    batch_size=10,\n",
        "    class_mode=\"binary\")"
      ],
      "execution_count": 0,
      "outputs": [
        {
          "output_type": "stream",
          "text": [
            "Found 299 images belonging to 2 classes.\n"
          ],
          "name": "stdout"
        }
      ]
    },
    {
      "cell_type": "markdown",
      "metadata": {
        "id": "fWufTGiCHhQ-",
        "colab_type": "text"
      },
      "source": [
        "## ***Loading Validation Dataset into Validation Generator***"
      ]
    },
    {
      "cell_type": "code",
      "metadata": {
        "id": "eLtBFzV2l9bT",
        "colab_type": "code",
        "outputId": "8d4664f0-2ed8-4d2f-858f-42d76bae751c",
        "colab": {
          "base_uri": "https://localhost:8080/",
          "height": 34
        }
      },
      "source": [
        "from keras.layers import Activation, Dropout, Flatten, Dense \n",
        "from keras import backend as K\n",
        "test_datagen = ImageDataGenerator(rescale=1. / 255)\n",
        "validation_generator = test_datagen.flow_from_directory(\n",
        "   'validation/',\n",
        "   target_size=(224,224),\n",
        "   batch_size=10,\n",
        "   class_mode='binary')"
      ],
      "execution_count": 0,
      "outputs": [
        {
          "output_type": "stream",
          "text": [
            "Found 242 images belonging to 2 classes.\n"
          ],
          "name": "stdout"
        }
      ]
    },
    {
      "cell_type": "markdown",
      "metadata": {
        "id": "W4vQtQF8H4rG",
        "colab_type": "text"
      },
      "source": [
        "## ***Training***"
      ]
    },
    {
      "cell_type": "code",
      "metadata": {
        "id": "HBFaAFYmnOaI",
        "colab_type": "code",
        "outputId": "83b26bd3-3250-45fc-d693-cd308e5f912f",
        "colab": {
          "base_uri": "https://localhost:8080/",
          "height": 581
        }
      },
      "source": [
        "from keras.applications.mobilenet import MobileNet\n",
        "model = MobileNet(depth_multiplier=1,classes=2,alpha=1.0,weights= 'imagenet', include_top=False, input_shape= (224,224,3))\n",
        "x = model.output\n",
        "x = GlobalAveragePooling2D()(x)\n",
        "x =Dropout(0.7)(x)\n",
        "predictions = Dense(1, activation= 'sigmoid')(x)\n",
        "model = Model(inputs = model.input, outputs = predictions)\n",
        "model.compile(loss=\"binary_crossentropy\",\n",
        "              optimizer=\"sgd\",\n",
        "              metrics=[\"accuracy\"])\n",
        "model.fit_generator(\n",
        "    training_generator,\n",
        "    steps_per_epoch=len(training_generator.filenames) // 10,\n",
        "    epochs=10,validation_data=validation_generator,validation_steps=100)"
      ],
      "execution_count": 0,
      "outputs": [
        {
          "output_type": "stream",
          "text": [
            "WARNING:tensorflow:From /usr/local/lib/python3.6/dist-packages/tensorflow/python/framework/op_def_library.py:263: colocate_with (from tensorflow.python.framework.ops) is deprecated and will be removed in a future version.\n",
            "Instructions for updating:\n",
            "Colocations handled automatically by placer.\n",
            "Downloading data from https://github.com/fchollet/deep-learning-models/releases/download/v0.6/mobilenet_1_0_224_tf_no_top.h5\n",
            "17227776/17225924 [==============================] - 1s 0us/step\n",
            "WARNING:tensorflow:From /usr/local/lib/python3.6/dist-packages/keras/backend/tensorflow_backend.py:3445: calling dropout (from tensorflow.python.ops.nn_ops) with keep_prob is deprecated and will be removed in a future version.\n",
            "Instructions for updating:\n",
            "Please use `rate` instead of `keep_prob`. Rate should be set to `rate = 1 - keep_prob`.\n",
            "WARNING:tensorflow:From /usr/local/lib/python3.6/dist-packages/tensorflow/python/ops/math_ops.py:3066: to_int32 (from tensorflow.python.ops.math_ops) is deprecated and will be removed in a future version.\n",
            "Instructions for updating:\n",
            "Use tf.cast instead.\n",
            "Epoch 1/10\n",
            "29/29 [==============================] - 248s 9s/step - loss: 0.6181 - acc: 0.7172 - val_loss: 1.6582 - val_acc: 0.3058\n",
            "Epoch 2/10\n",
            "29/29 [==============================] - 241s 8s/step - loss: 0.2815 - acc: 0.8702 - val_loss: 0.9638 - val_acc: 0.3058\n",
            "Epoch 3/10\n",
            "29/29 [==============================] - 241s 8s/step - loss: 0.1604 - acc: 0.9448 - val_loss: 1.3816 - val_acc: 0.3058\n",
            "Epoch 4/10\n",
            "29/29 [==============================] - 240s 8s/step - loss: 0.0682 - acc: 0.9793 - val_loss: 0.8047 - val_acc: 0.3058\n",
            "Epoch 5/10\n",
            "29/29 [==============================] - 241s 8s/step - loss: 0.1303 - acc: 0.9445 - val_loss: 0.9668 - val_acc: 0.3058\n",
            "Epoch 6/10\n",
            "29/29 [==============================] - 241s 8s/step - loss: 0.0839 - acc: 0.9655 - val_loss: 0.7814 - val_acc: 0.3058\n",
            "Epoch 7/10\n",
            "29/29 [==============================] - 242s 8s/step - loss: 0.0185 - acc: 0.9966 - val_loss: 0.7728 - val_acc: 0.3058\n",
            "Epoch 8/10\n",
            "29/29 [==============================] - 240s 8s/step - loss: 0.0548 - acc: 0.9720 - val_loss: 0.6570 - val_acc: 0.6942\n",
            "Epoch 9/10\n",
            "29/29 [==============================] - 242s 8s/step - loss: 0.1111 - acc: 0.9586 - val_loss: 0.8748 - val_acc: 0.3058\n",
            "Epoch 10/10\n",
            "29/29 [==============================] - 241s 8s/step - loss: 0.0503 - acc: 0.9793 - val_loss: 0.9728 - val_acc: 0.3058\n"
          ],
          "name": "stdout"
        },
        {
          "output_type": "execute_result",
          "data": {
            "text/plain": [
              "<keras.callbacks.History at 0x7fdb34b93da0>"
            ]
          },
          "metadata": {
            "tags": []
          },
          "execution_count": 10
        }
      ]
    },
    {
      "cell_type": "markdown",
      "metadata": {
        "id": "O0vy5FaxIGqu",
        "colab_type": "text"
      },
      "source": [
        "## ***Saving the Model***"
      ]
    },
    {
      "cell_type": "code",
      "metadata": {
        "id": "bZH7uOlVnlAC",
        "colab_type": "code",
        "colab": {}
      },
      "source": [
        "model.save('dentalp.h5') \n",
        "\n"
      ],
      "execution_count": 0,
      "outputs": []
    },
    {
      "cell_type": "markdown",
      "metadata": {
        "id": "-fAT09_IIjbX",
        "colab_type": "text"
      },
      "source": [
        "## ***Loading the model***"
      ]
    },
    {
      "cell_type": "code",
      "metadata": {
        "id": "Bzx8E-RMxBOW",
        "colab_type": "code",
        "colab": {}
      },
      "source": [
        "from keras.models import load_model\n",
        "import cv2\n",
        "import numpy as np\n",
        "\n",
        "model = load_model('dentalp.h5')"
      ],
      "execution_count": 0,
      "outputs": []
    },
    {
      "cell_type": "code",
      "metadata": {
        "id": "GoAqpSVsyFUa",
        "colab_type": "code",
        "colab": {}
      },
      "source": [
        "model.compile(loss='binary_crossentropy',\n",
        "              optimizer='sgd',\n",
        "              metrics=['accuracy'])\n"
      ],
      "execution_count": 0,
      "outputs": []
    },
    {
      "cell_type": "markdown",
      "metadata": {
        "id": "AxuOtZs6IpUe",
        "colab_type": "text"
      },
      "source": [
        "## ***Uploading a picture for testing the model***"
      ]
    },
    {
      "cell_type": "code",
      "metadata": {
        "id": "Oj6T9fmfyM4D",
        "colab_type": "code",
        "colab": {}
      },
      "source": [
        "from io import BytesIO\n",
        "from PIL import Image"
      ],
      "execution_count": 0,
      "outputs": []
    },
    {
      "cell_type": "code",
      "metadata": {
        "id": "nwdniNaAyQv0",
        "colab_type": "code",
        "outputId": "84b3895e-586b-4eb2-bcf6-c000ec738590",
        "colab": {
          "resources": {
            "http://localhost:8080/nbextensions/google.colab/files.js": {
              "data": "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",
              "ok": true,
              "headers": [
                [
                  "content-type",
                  "application/javascript"
                ]
              ],
              "status": 200,
              "status_text": ""
            }
          },
          "base_uri": "https://localhost:8080/",
          "height": 74
        }
      },
      "source": [
        "from google.colab import files\n",
        "uploaded = files.upload()"
      ],
      "execution_count": 0,
      "outputs": [
        {
          "output_type": "display_data",
          "data": {
            "text/html": [
              "\n",
              "     <input type=\"file\" id=\"files-b6fb5d50-8956-4294-a8d3-513752213701\" name=\"files[]\" multiple disabled />\n",
              "     <output id=\"result-b6fb5d50-8956-4294-a8d3-513752213701\">\n",
              "      Upload widget is only available when the cell has been executed in the\n",
              "      current browser session. Please rerun this cell to enable.\n",
              "      </output>\n",
              "      <script src=\"/nbextensions/google.colab/files.js\"></script> "
            ],
            "text/plain": [
              "<IPython.core.display.HTML object>"
            ]
          },
          "metadata": {
            "tags": []
          }
        },
        {
          "output_type": "stream",
          "text": [
            "Saving p500.JPG to p500.JPG\n"
          ],
          "name": "stdout"
        }
      ]
    },
    {
      "cell_type": "code",
      "metadata": {
        "id": "qz3cZ9SEyUpg",
        "colab_type": "code",
        "colab": {}
      },
      "source": [
        "im = Image.open(BytesIO(uploaded['p500.JPG']))"
      ],
      "execution_count": 0,
      "outputs": []
    },
    {
      "cell_type": "code",
      "metadata": {
        "id": "6BQXEFkiyhx1",
        "colab_type": "code",
        "outputId": "253bc0bf-ac81-478f-d65c-c3af3e8d5708",
        "colab": {
          "base_uri": "https://localhost:8080/",
          "height": 180
        }
      },
      "source": [
        "import matplotlib.pyplot as plt\n",
        "\n",
        "plt.imshow(im)\n",
        "plt.show()"
      ],
      "execution_count": 0,
      "outputs": [
        {
          "output_type": "display_data",
          "data": {
            "image/png": "[encoded data removed]",
            "text/plain": [
              "<Figure size 432x288 with 1 Axes>"
            ]
          },
          "metadata": {
            "tags": []
          }
        }
      ]
    },
    {
      "cell_type": "markdown",
      "metadata": {
        "id": "tZL3fdJ4Izgc",
        "colab_type": "text"
      },
      "source": [
        "## ***Processing the image to fit in the model***"
      ]
    },
    {
      "cell_type": "code",
      "metadata": {
        "id": "H6fRCYCCymjz",
        "colab_type": "code",
        "colab": {}
      },
      "source": [
        "img = cv2.imread('p500.JPG')\n",
        "img = cv2.resize(img,(224,224))\n",
        "img = np.reshape(img,[1,224,224,3])\n"
      ],
      "execution_count": 0,
      "outputs": []
    },
    {
      "cell_type": "markdown",
      "metadata": {
        "id": "pvQplRNyI74_",
        "colab_type": "text"
      },
      "source": [
        "## ***Prediction***"
      ]
    },
    {
      "cell_type": "code",
      "metadata": {
        "id": "JM-etHf1ytjx",
        "colab_type": "code",
        "outputId": "afe79961-bc81-47e7-fc6e-bf943f46236a",
        "colab": {
          "base_uri": "https://localhost:8080/",
          "height": 34
        }
      },
      "source": [
        "classes = model.predict(img)\n",
        "\n",
        "print(classes[0][0])"
      ],
      "execution_count": 0,
      "outputs": [
        {
          "output_type": "stream",
          "text": [
            "0.00014826098\n"
          ],
          "name": "stdout"
        }
      ]
    },
    {
      "cell_type": "markdown",
      "metadata": {
        "id": "ZDLDesZSJA9b",
        "colab_type": "text"
      },
      "source": [
        "## ***An Another Example***"
      ]
    },
    {
      "cell_type": "code",
      "metadata": {
        "id": "kd-reLskyxLG",
        "colab_type": "code",
        "outputId": "ebe17567-cb98-4ef2-80ae-213e8daeb628",
        "colab": {
          "resources": {
            "http://localhost:8080/nbextensions/google.colab/files.js": {
              "data": "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",
              "ok": true,
              "headers": [
                [
                  "content-type",
                  "application/javascript"
                ]
              ],
              "status": 200,
              "status_text": ""
            }
          },
          "base_uri": "https://localhost:8080/",
          "height": 75
        }
      },
      "source": [
        "from google.colab import files\n",
        "uploaded = files.upload()"
      ],
      "execution_count": 0,
      "outputs": [
        {
          "output_type": "display_data",
          "data": {
            "text/html": [
              "\n",
              "     <input type=\"file\" id=\"files-3cc2c66b-3018-429f-a9f2-dda608d76ae6\" name=\"files[]\" multiple disabled />\n",
              "     <output id=\"result-3cc2c66b-3018-429f-a9f2-dda608d76ae6\">\n",
              "      Upload widget is only available when the cell has been executed in the\n",
              "      current browser session. Please rerun this cell to enable.\n",
              "      </output>\n",
              "      <script src=\"/nbextensions/google.colab/files.js\"></script> "
            ],
            "text/plain": [
              "<IPython.core.display.HTML object>"
            ]
          },
          "metadata": {
            "tags": []
          }
        },
        {
          "output_type": "stream",
          "text": [
            "Saving p525.JPG to p525 (1).JPG\n"
          ],
          "name": "stdout"
        }
      ]
    },
    {
      "cell_type": "code",
      "metadata": {
        "id": "XSmgaTWHzlCv",
        "colab_type": "code",
        "colab": {}
      },
      "source": [
        "im1 = Image.open(BytesIO(uploaded['p525.JPG']))"
      ],
      "execution_count": 0,
      "outputs": []
    },
    {
      "cell_type": "code",
      "metadata": {
        "id": "5aWrlhYAzvtj",
        "colab_type": "code",
        "outputId": "8b7113b9-0f6f-408d-c1ba-4c0084a2e094",
        "colab": {
          "base_uri": "https://localhost:8080/",
          "height": 173
        }
      },
      "source": [
        "import matplotlib.pyplot as plt\n",
        "\n",
        "plt.imshow(im1)\n",
        "plt.show()"
      ],
      "execution_count": 0,
      "outputs": [
        {
          "output_type": "display_data",
          "data": {
            "image/png": "[encoded data removed]",
            "text/plain": [
              "<Figure size 432x288 with 1 Axes>"
            ]
          },
          "metadata": {
            "tags": []
          }
        }
      ]
    },
    {
      "cell_type": "code",
      "metadata": {
        "id": "TuzxmRv7zz2b",
        "colab_type": "code",
        "colab": {}
      },
      "source": [
        "img = cv2.imread('p525.JPG')\n",
        "img = cv2.resize(img,(224,224))\n",
        "img = np.reshape(img,[1,224,224,3])"
      ],
      "execution_count": 0,
      "outputs": []
    },
    {
      "cell_type": "code",
      "metadata": {
        "id": "sZ8BPkVtz-m3",
        "colab_type": "code",
        "outputId": "96cfde52-b022-4333-9b0b-ef2f8769cdff",
        "colab": {
          "base_uri": "https://localhost:8080/",
          "height": 34
        }
      },
      "source": [
        "classes = model.predict(img)\n",
        "\n",
        "print(classes[0][0])"
      ],
      "execution_count": 0,
      "outputs": [
        {
          "output_type": "stream",
          "text": [
            "0.99999666\n"
          ],
          "name": "stdout"
        }
      ]
    },
    {
      "cell_type": "code",
      "metadata": {
        "id": "WNxfrxiS0SM5",
        "colab_type": "code",
        "colab": {}
      },
      "source": [
        "!pip install -U -q PyDrive\n",
        "from pydrive.auth import GoogleAuth\n",
        "from pydrive.drive import GoogleDrive \n",
        "from google.colab import auth \n",
        "from oauth2client.client import GoogleCredentials\n"
      ],
      "execution_count": 0,
      "outputs": []
    },
    {
      "cell_type": "code",
      "metadata": {
        "id": "IzluPLLo1LXy",
        "colab_type": "code",
        "colab": {}
      },
      "source": [
        "auth.authenticate_user()\n",
        "gauth = GoogleAuth()\n",
        "gauth.credentials = GoogleCredentials.get_application_default()                       \n",
        "drive = GoogleDrive(gauth)"
      ],
      "execution_count": 0,
      "outputs": []
    },
    {
      "cell_type": "markdown",
      "metadata": {
        "id": "7qCpvnEd8f2G",
        "colab_type": "text"
      },
      "source": [
        ""
      ]
    },
    {
      "cell_type": "code",
      "metadata": {
        "id": "Lb5POS6A12uC",
        "colab_type": "code",
        "colab": {}
      },
      "source": [
        "model.save('dentalp.h5')\n",
        "model_file = drive.CreateFile({'title' : 'dentalp.h5'}) \n",
        "model_file.SetContentFile('dentalp.h5')                       \n",
        "model_file.Upload()"
      ],
      "execution_count": 0,
      "outputs": []
    },
    {
      "cell_type": "code",
      "metadata": {
        "id": "jceKGE9W2pTr",
        "colab_type": "code",
        "outputId": "c60f2217-9b48-45c9-a1ce-78b69ecbd12e",
        "colab": {
          "base_uri": "https://localhost:8080/",
          "height": 34
        }
      },
      "source": [
        "# download to google drive                       \n",
        "drive.CreateFile({'id': model_file.get('id')})"
      ],
      "execution_count": 0,
      "outputs": [
        {
          "output_type": "execute_result",
          "data": {
            "text/plain": [
              "GoogleDriveFile({'id': '1sjVsEN0jiX5Wl_YOIMjVkTKuCklUr8YB'})"
            ]
          },
          "metadata": {
            "tags": []
          },
          "execution_count": 59
        }
      ]
    },
    {
      "cell_type": "code",
      "metadata": {
        "id": "a4kQZWZX7ADx",
        "colab_type": "code",
        "colab": {}
      },
      "source": [
        "from pydrive.auth import GoogleAuth\n",
        "from pydrive.drive import GoogleDrive\n",
        "from google.colab import auth\n",
        "from oauth2client.client import GoogleCredentials"
      ],
      "execution_count": 0,
      "outputs": []
    },
    {
      "cell_type": "code",
      "metadata": {
        "id": "jHD-rDHM7Av4",
        "colab_type": "code",
        "colab": {}
      },
      "source": [
        ""
      ],
      "execution_count": 0,
      "outputs": []
    }
  ]
}